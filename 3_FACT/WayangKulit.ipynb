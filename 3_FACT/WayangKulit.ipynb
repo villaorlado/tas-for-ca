{
 "cells": [
  {
   "cell_type": "code",
   "execution_count": null,
   "metadata": {},
   "outputs": [],
   "source": [
    "# Training\n",
    "from src.train_and_infer import initialise_training, infer_with_new_dir, infer_with_original_dataset"
   ]
  },
  {
   "cell_type": "code",
   "execution_count": null,
   "metadata": {},
   "outputs": [],
   "source": [
    "#######################\n",
    "# Training from scratch\n",
    "\n",
    "initialise_training(cfg_path=\"src/configs/default.yaml\",\n",
    "\t\t\t\t\tthumbnails_dir=\"data/thumbnails\",\n",
    "\t\t\t\t\tgroundtruth_dir=\"data/groundtruth\")"
   ]
  },
  {
   "cell_type": "code",
   "execution_count": null,
   "metadata": {},
   "outputs": [],
   "source": [
    "#######################\n",
    "# Infer original dataset\n",
    "\n",
    "infer_with_original_dataset(cfg_path=\"log/wayang_kulit/config.yaml\",\n",
    "\t\t\t\t\t\t\tmodel_weights_path=\"log/wayang_kulit/model_weights/wayang_kulit_model_weights.net\",\n",
    "\t\t\t\t\t\t\teval_output_dir=\"log/wayang_kulit\")\n"
   ]
  },
  {
   "cell_type": "code",
   "execution_count": null,
   "metadata": {},
   "outputs": [],
   "source": [
    "#######################\n",
    "# Infer new directory\n",
    "# If groundtruth_dir = None, then it is in pure inference mode.\n",
    "\n",
    "infer_with_new_dir(cfg_path=\"log/wayang_kulit/config.yaml\",\n",
    "                   model_weights_path=\"log/wayang_kulit/model_weights/wayang_kulit_model_weights.net\",\n",
    "                   eval_output_dir=\"log/wayang_kulit\",\n",
    "                   dataset_name=\"new_test\",\n",
    "                   thumbnails_dir=\"data/thumbnails\",\n",
    "                   groundtruth_dir=None,\n",
    "                   video_list=[\"6PFIn5HlkZ4\"])"
   ]
  },
  {
   "cell_type": "code",
   "execution_count": null,
   "metadata": {},
   "outputs": [],
   "source": [
    "#######################\n",
    "# Visualise results with timeline segments\n",
    "# ! note to check if this supports nclasses > 2 !\n",
    "\n",
    "from src.visualisation.heatmaps import plot_video_heatmaps\n",
    "\n",
    "json_file_path = plot_video_heatmaps('log/wayang_kulit/test.json')\n",
    "\n"
   ]
  },
  {
   "cell_type": "code",
   "execution_count": null,
   "metadata": {},
   "outputs": [],
   "source": [
    "#######################\n",
    "# Visualise results with rendering thumbnails on a grid\n",
    "# ! note to check if this supports nclasses > 2 !\n",
    "\n",
    "from src.visualisation.render_thumbnails import render_results_for_dir\n",
    "\n",
    "render_results_for_dir(results_json_path = 'log/wayang_kulit/test.json',\n",
    "\t\t\t\t\t\tthumbnails_parent_dir=\"data/thumbnails\",\n",
    "\t\t\t\t\t\tthumbnails_render_resolution=(100,75),\n",
    "\t\t\t\t\t\tnum_cols=10,\n",
    "\t\t\t\t\t\toutput_pdf_dir=\"log/wayang_kulit/renders\")"
   ]
  }
 ],
 "metadata": {
  "kernelspec": {
   "display_name": "wayang_kulit_2",
   "language": "python",
   "name": "python3"
  },
  "language_info": {
   "codemirror_mode": {
    "name": "ipython",
    "version": 3
   },
   "file_extension": ".py",
   "mimetype": "text/x-python",
   "name": "python",
   "nbconvert_exporter": "python",
   "pygments_lexer": "ipython3",
   "version": "3.12.3"
  }
 },
 "nbformat": 4,
 "nbformat_minor": 2
}
