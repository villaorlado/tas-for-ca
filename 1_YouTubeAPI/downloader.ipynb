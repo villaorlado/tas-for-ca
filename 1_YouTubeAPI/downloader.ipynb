{
 "cells": [
  {
   "cell_type": "code",
   "execution_count": null,
   "metadata": {},
   "outputs": [],
   "source": [
    "\"\"\"\n",
    "[Downloading YouTube videos]\n",
    "We use yt-dlp on the command line to download YouTube videos\n",
    "\n",
    "[Instructions]\n",
    "1. Download yt-dlp [yt-dlp github](https://github.com/yt-dlp/yt-dlp?tab=readme-ov-file#installation)\n",
    "\n",
    "2. Prepare a csv file with 3 columns in the order: nb, url, title\n",
    "- nb: a unique identifier for the video\n",
    "- url: YouTube url of the video\n",
    "- title: title of the YouTube video\n",
    "\n",
    "3. Designate a folder for the videos to be saved into\n",
    "\n",
    "4. Decide which videos to download (identified by nb) from range $m$ to $n-1$\n",
    "\n",
    "5. Run the command\n",
    "*General*\n",
    "```bash\n",
    "bash yt_dler.sh videos_to_download.csv /path/to/destination/folder m n\n",
    "```\n",
    "*Our Usage*\n",
    "```bash\n",
    "bash yt_dler.sh videos_to_download.csv \"../../data/videos\" 0 100\n",
    "```\n",
    "\n",
    "More details are available in the comments of *yt_dler.sh*.\n",
    "\"\"\""
   ]
  }
 ],
 "metadata": {
  "kernelspec": {
   "display_name": "wayang_kulit_2",
   "language": "python",
   "name": "python3"
  },
  "language_info": {
   "name": "python",
   "version": "3.12.3"
  }
 },
 "nbformat": 4,
 "nbformat_minor": 2
}
