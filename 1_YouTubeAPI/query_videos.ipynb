{
 "cells": [
  {
   "cell_type": "code",
   "execution_count": null,
   "metadata": {},
   "outputs": [],
   "source": [
    "\"\"\"\n",
    "[Step 1]\n",
    "- Go to console.cloud.google.com\n",
    "- Create a project\n",
    "- Search for \"YouTube Data API v3\" \n",
    "- Click Enable\n",
    "\n",
    "- Click Credentials on the bar on the left\n",
    "- Click \"Create Credentials\" at the top of the screen \n",
    "- You will get an API key\n",
    "\n",
    "- With the API key, create a file src/.env\n",
    "- In the file: src/.env, \n",
    "\tYOUTUBE_DATA_API_KEY=INSERT_YOUR_API_HERE\n",
    "\t(replace INSERT_YOUR_API_HERE with the API you obtained in the previous step)\n",
    "\n",
    "- Add a .gitignore to ignore the .env file to avoid leaking your API key!    \n",
    "\"\"\""
   ]
  },
  {
   "cell_type": "code",
   "execution_count": null,
   "metadata": {},
   "outputs": [],
   "source": [
    "\"\"\"\n",
    "[Step 2] Go to src/query_config.yaml and modify the parameters \n",
    "\"\"\""
   ]
  },
  {
   "cell_type": "code",
   "execution_count": null,
   "metadata": {},
   "outputs": [],
   "source": [
    "\"\"\"\n",
    "[Step 3] Read the following!\n",
    "\n",
    "We want to extract all YouTube videos with 'wayang kulit' in the title using Google YouTube API.\n",
    "Each day, we are provided with 10 000 credits to make API calls.\n",
    "\t- Getting one page of results (up to 50 results) costs 100 credits each.\n",
    "\t- Getting the details of a specific video costs 1 credit each.\n",
    "This works out to at least 3 credits per video (≥2 for the search + 1 for the details) \n",
    "and about 6666 videos per day.\n",
    "\n",
    "Note that for a given search, we can only access up to 10 pages (restriction imposed by Google).\n",
    "This gives a maximum of 500 videos per search.\n",
    "To circumvent this restriction, we choose a sufficiently narrow time window such that \n",
    "the search results are less than (10 pages x 50 results/page).\n",
    "\n",
    "Given a defined time window in minutes, we collect all the results then shift\n",
    "the time window backwards in time.\n",
    "\n",
    "The code below does the following: \n",
    "\t1. Get the list of YouTube videos with 'wayang kulit' in the title from \n",
    "\t\tGoogle's YouTube API within the specified timeframe\n",
    "\n",
    "\t2. For each video in the list:\n",
    "\t\ta. Get the relevant information from the response\n",
    "\t\t\t- Video URL\n",
    "\t\t\t- Title\n",
    "\t\t\t- Duration\n",
    "\t\t\t- Name of the Channel \n",
    "\t\t\t- Number of Likes \n",
    "\t\t\t- Date \n",
    "\t\t\t- Description\n",
    "\t\tb. Write the data into {local_i={i}_metadata} csv file\n",
    "\n",
    "\t3. If there's a next page, get results for the next page. \n",
    "\t\tIf not:\n",
    "\t\t\t- combine the csv file from {local_i={i}_metadata} csv file to the \n",
    "\t\t\t\tmain {output_data_path} csv file \n",
    "\t\t\t- write to {output_completion_log_path} csv file\n",
    "\t\t\t- redefine the timeframe to something earlier \n",
    "\t\t\t- go to step 2.\n",
    "\n",
    "\"\"\""
   ]
  },
  {
   "cell_type": "code",
   "execution_count": null,
   "metadata": {},
   "outputs": [],
   "source": [
    "\"\"\"\n",
    "[Step 4]\n",
    "There are several parameters for this python script.\n",
    "\n",
    "\toutput_data_path\n",
    "\toutput_completion_log_path\n",
    "\ttemp_dir_file_path\n",
    "\ti_start\n",
    "\ti_end\n",
    "\tref_datetime\n",
    "\twindow_size_in_mins\n",
    "    \n",
    "[Important!]\n",
    "The command goes through one set of results found \n",
    "Ensure that the number of videos in each result does not exceed 500! \n",
    "YouTube API does not return the 501st, 502nd,... results!\n",
    "As a workaround, we narrow the search window.\n",
    "\n",
    "[Outputs]\n",
    "data/completion_results.csv - output of search results\n",
    "data/video_metadata.csv \t- provides metadata on the results that were completed successfully\n",
    "data/temp_dir/* \t\t\t- output of each pagefor each search results\n",
    "\n",
    "[Mechanism]\n",
    "1. The function searches one time window within a specified window size ranging from [now-window, now)\n",
    "2. Running this command again will search [now-2*window,now-window)\n",
    "   This is based on the metadata found in data/video_metadata.csv \n",
    "\"\"\""
   ]
  },
  {
   "cell_type": "code",
   "execution_count": null,
   "metadata": {},
   "outputs": [],
   "source": [
    "# Calling the following command would default to its internal values.\n",
    "!python3 -m src.query_youtube_api"
   ]
  },
  {
   "cell_type": "code",
   "execution_count": null,
   "metadata": {},
   "outputs": [],
   "source": [
    "# I recommend calling the command and adjusting the window_size_in_mins manually.\n",
    "!python3 -m src.query_youtube_api --window_size_in_mins 1800\n"
   ]
  }
 ],
 "metadata": {
  "kernelspec": {
   "display_name": "wayang_kulit_2",
   "language": "python",
   "name": "python3"
  },
  "language_info": {
   "codemirror_mode": {
    "name": "ipython",
    "version": 3
   },
   "file_extension": ".py",
   "mimetype": "text/x-python",
   "name": "python",
   "nbconvert_exporter": "python",
   "pygments_lexer": "ipython3",
   "version": "3.12.3"
  }
 },
 "nbformat": 4,
 "nbformat_minor": 2
}
